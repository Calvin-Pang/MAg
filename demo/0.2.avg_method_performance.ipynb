{
 "cells": [
  {
   "cell_type": "markdown",
   "metadata": {},
   "source": [
    "This notebook is used to get the performance (auc,f1,bacc) of the averaging method in the paper 'Deep learning model for\n",
    "the prediction of microsatellite instability in colorectal cancer: a diagnostic study'. "
   ]
  },
  {
   "cell_type": "code",
   "execution_count": 1,
   "metadata": {},
   "outputs": [],
   "source": [
    "from openpyxl import load_workbook\n",
    "from sklearn.metrics import roc_auc_score,f1_score,balanced_accuracy_score\n",
    "number_msi = load_workbook('D:/dataset_Huo_4/number/image_num_test_MSI.xlsx')\n",
    "num_msi = number_msi.active\n",
    "number_mss = load_workbook('D:/dataset_Huo_4/number/image_num_test_MSS.xlsx')\n",
    "num_mss = number_mss.active\n",
    "\n",
    "patch_msi = load_workbook('D:/dataset_Huo_4/patch_info/2resnext101/MSI_test_patch_info.xlsx')\n",
    "info_msi = patch_msi.active\n",
    "patch_mss = load_workbook('D:/dataset_Huo_4/patch_info/2resnext101/MSS_test_patch_info.xlsx')\n",
    "info_mss = patch_mss.active"
   ]
  },
  {
   "cell_type": "code",
   "execution_count": 2,
   "metadata": {},
   "outputs": [],
   "source": [
    "true_label = []\n",
    "for j in range(74):\n",
    "    true_label.append(0)\n",
    "for i in range(25):\n",
    "    true_label.append(1)"
   ]
  },
  {
   "cell_type": "code",
   "execution_count": 3,
   "metadata": {},
   "outputs": [],
   "source": [
    "result = []\n",
    "result_label = []\n",
    "right_mss = 0\n",
    "right_msi = 0\n",
    "for i in range(74):\n",
    "    number = num_mss.cell(i+1,1).value\n",
    "    patch_buf = []\n",
    "    for j in range(number):\n",
    "        patch_buf.append(info_mss.cell(j+1,i+1).value)\n",
    "    avg_patient = sum(patch_buf) / number\n",
    "    if avg_patient < 0.5:\n",
    "        result_label.append(0)\n",
    "        right_mss = right_mss + 1\n",
    "    else:\n",
    "        result_label.append(1)  \n",
    "    result.append(avg_patient)\n",
    "\n",
    "for i in range(25):\n",
    "    number = num_msi.cell(i+1,1).value\n",
    "    patch_buf = []\n",
    "    for j in range(number):\n",
    "        patch_buf.append(info_msi.cell(j+1,i+1).value)\n",
    "    avg_patient = sum(patch_buf) / number\n",
    "    if avg_patient < 0.5:\n",
    "        result_label.append(0)\n",
    "    else:\n",
    "        result_label.append(1)  \n",
    "        right_msi = right_msi + 1\n",
    "    result.append(avg_patient)"
   ]
  },
  {
   "cell_type": "code",
   "execution_count": 4,
   "metadata": {},
   "outputs": [
    {
     "name": "stdout",
     "output_type": "stream",
     "text": [
      "mss: 58 / 74\n",
      "msi: 12 / 25\n",
      "acc: 70 / 99\n",
      "f1: 0.4528301886792452\n",
      "balanced_acc: 0.6318918918918919\n",
      "auc: 0.7054054054054053\n"
     ]
    }
   ],
   "source": [
    "auc = roc_auc_score(true_label,result)\n",
    "f1 = f1_score(true_label,result_label)\n",
    "balanced_acc = balanced_accuracy_score(true_label,result_label)\n",
    "print('mss:',right_mss,'/ 74')\n",
    "print('msi:',right_msi,'/ 25')\n",
    "print('acc:',right_mss + right_msi,'/ 99')\n",
    "print('f1:', f1)\n",
    "print('balanced_acc:',balanced_acc)\n",
    "print('auc:',auc)"
   ]
  }
 ],
 "metadata": {
  "interpreter": {
   "hash": "aa88eb80fe6aea0a2f4aff8fa8849bac35c0cecd21d1c3c7c22b82a5cf54fb2a"
  },
  "kernelspec": {
   "display_name": "Python 3.7.10 64-bit ('tf2': conda)",
   "name": "python3"
  },
  "language_info": {
   "codemirror_mode": {
    "name": "ipython",
    "version": 3
   },
   "file_extension": ".py",
   "mimetype": "text/x-python",
   "name": "python",
   "nbconvert_exporter": "python",
   "pygments_lexer": "ipython3",
   "version": "3.7.10"
  },
  "orig_nbformat": 4
 },
 "nbformat": 4,
 "nbformat_minor": 2
}
