{
 "cells": [
  {
   "cell_type": "code",
   "execution_count": 24,
   "metadata": {},
   "outputs": [],
   "source": [
    "import numpy as np\n",
    "import openpyxl\n",
    "import matplotlib.pyplot as plt\n",
    "from openpyxl import load_workbook\n",
    "import torch.nn as nn\n",
    "from sklearn import preprocessing\n",
    "import math\n",
    "import pandas as pd\n",
    "import torch.nn.functional as F\n",
    "from sklearn.metrics import accuracy_score\n",
    "from sklearn.metrics import roc_auc_score,roc_curve,auc,f1_score,balanced_accuracy_score\n",
    "from sklearn import linear_model\n",
    "from sklearn import svm,decomposition\n",
    "#The files here is in folder /MAg/datasets/,Please note that the histogram-based training set, test set, \n",
    "#and validation set of each model will be placed in the same folder, for example, placed in /MAg/datasets/CRC_DX/resnet18/\n",
    "dataset = load_workbook('D:/dataset_Huo_1/feature/resnet18/feature_train_10.xlsx',data_only=True)\n",
    "dataset_x = dataset.active\n",
    "dataset_test = load_workbook('D:/dataset_Huo_1/feature/resnet18/feature_test_10.xlsx',data_only=True)\n",
    "dataset_tst = dataset_test.active\n",
    "validation = load_workbook('D:/dataset_Huo_1/feature/resnet18/feature_val_10.xlsx',data_only=True)\n",
    "val_tst = validation.active\n",
    "dimension = 10 # the dimensions of the histogram\n",
    "# sample of different set and class\n",
    "num_train = 188 # for STAD: 124\n",
    "num_val_MSS = 61 # for STAD: 49\n",
    "num_val_MSI = 11 # for STAD: 12\n",
    "num_test_MSS = 74 # for STAD: 74\n",
    "num_test_MSI = 26 # for STAD: 25"
   ]
  },
  {
   "cell_type": "code",
   "execution_count": 25,
   "metadata": {},
   "outputs": [],
   "source": [
    "# create training set, validation set, testing set\n",
    "X = [[0]*10 for i in range(num_train)]\n",
    "y = []\n",
    "for i in range(num_train):\n",
    "    for j in range(10):\n",
    "        X[i][j] = dataset_x.cell(i+1,j+1).value\n",
    "    y.append(float(dataset_x.cell(i+1,12).value))\n",
    "\n",
    "X_val = [[0]*dimension for i in range(num_val_MSS+num_val_MSI)]\n",
    "y_val = []\n",
    "for i in range(num_val_MSS+num_val_MSI):\n",
    "    for j in range(10):\n",
    "        X_val[i][j] = val_tst.cell(i+1,j+1).value \n",
    "    y_val.append(float(val_tst.cell(i+1,12).value))\n",
    "\n",
    "X_test = [[0]*dimension for i in range(num_test_MSS+num_test_MSI)]\n",
    "y_test = []\n",
    "for i in range(num_test_MSS+num_test_MSI):\n",
    "    for j in range(10):\n",
    "        X_test[i][j] = dataset_tst.cell(i+1,j+1).value \n",
    "    y_test.append(float(dataset_tst.cell(i+1,12).value))\n",
    "\n",
    "# make the predicting label list for validation set and testing set\n",
    "true_val_label = []\n",
    "for j in range(num_val_MSS):\n",
    "    true_val_label.append(0)\n",
    "for i in range(num_val_MSI):\n",
    "    true_val_label.append(1)\n",
    "    \n",
    "true_label = []\n",
    "for j in range(num_test_MSS):\n",
    "    true_label.append(0)\n",
    "for i in range(num_test_MSI):\n",
    "    true_label.append(1)"
   ]
  },
  {
   "cell_type": "code",
   "execution_count": 26,
   "metadata": {},
   "outputs": [
    {
     "name": "stdout",
     "output_type": "stream",
     "text": [
      "right mss: 45 / 61\n",
      "right msi: 6 / 11\n",
      "f1_val: 0.3636363636363636\n",
      "BACC: 0.6415797317436662\n",
      "acc: 51 / 72\n",
      "acc: 0.7083333333333334\n"
     ]
    }
   ],
   "source": [
    "clt = svm.SVC(C = 1,kernel = 'sigmoid',probability = True,class_weight = {0:0.0595,1:0.9405})\n",
    "clt.fit(X,y)\n",
    "test = [[]]\n",
    "\n",
    "'''\n",
    "validation\n",
    "'''\n",
    "pred_label_val = clt.predict(X_val)\n",
    "# print(label)\n",
    "right_mss = 0\n",
    "right_msi = 0\n",
    "for k in range(num_val_MSS):\n",
    "    if pred_label_val[k] == 0:\n",
    "        right_mss = right_mss + 1\n",
    "for k in range(num_val_MSI):\n",
    "    if pred_label_val[k + num_val_MSS] == 1:\n",
    "        right_msi = right_msi + 1\n",
    "print('right mss:',right_mss,'/',num_val_MSS)\n",
    "print('right msi:',right_msi,'/',num_val_MSI)\n",
    "print('f1_val:',f1_score(y_val,pred_label_val))\n",
    "print('BACC:',balanced_accuracy_score(y_val,pred_label_val))\n",
    "print('acc:', right_mss + right_msi,'/',num_val_MSI+num_val_MSS)\n",
    "print('acc:', (right_mss + right_msi) / (num_val_MSI+num_val_MSS))"
   ]
  },
  {
   "cell_type": "code",
   "execution_count": 27,
   "metadata": {},
   "outputs": [
    {
     "name": "stdout",
     "output_type": "stream",
     "text": [
      "right mss: 58 / 74\n",
      "right msi: 19 / 26\n",
      "f1: 0.6229508196721311\n",
      "BACC: 0.7572765072765073\n",
      "acc: 77 / 100\n",
      "acc: 0.77\n"
     ]
    }
   ],
   "source": [
    "'''\n",
    "test the trained SVM model\n",
    "'''\n",
    "pred_label_test = clt.predict(X_test)\n",
    "right_mss = 0\n",
    "right_msi = 0\n",
    "for k in range(num_test_MSS):\n",
    "    if pred_label_test[k] == 0:\n",
    "        right_mss = right_mss + 1\n",
    "for k in range(num_test_MSI):\n",
    "    if pred_label_test[k + num_test_MSS] == 1:\n",
    "        right_msi = right_msi + 1\n",
    "print('right mss:',right_mss,'/',num_test_MSS)\n",
    "print('right msi:',right_msi,'/',num_test_MSI)\n",
    "print('f1:',f1_score(true_label,pred_label_test))\n",
    "print('BACC:',balanced_accuracy_score(true_label,pred_label_test))\n",
    "print('acc:', right_mss + right_msi,'/',(num_test_MSI+num_test_MSS))\n",
    "print('acc:', (right_mss + right_msi) / (num_test_MSI+num_test_MSS))"
   ]
  }
 ],
 "metadata": {
  "interpreter": {
   "hash": "aa88eb80fe6aea0a2f4aff8fa8849bac35c0cecd21d1c3c7c22b82a5cf54fb2a"
  },
  "kernelspec": {
   "display_name": "Python 3.7.10 64-bit ('tf2': conda)",
   "language": "python",
   "name": "python3"
  },
  "language_info": {
   "codemirror_mode": {
    "name": "ipython",
    "version": 3
   },
   "file_extension": ".py",
   "mimetype": "text/x-python",
   "name": "python",
   "nbconvert_exporter": "python",
   "pygments_lexer": "ipython3",
   "version": "3.7.10"
  },
  "orig_nbformat": 4
 },
 "nbformat": 4,
 "nbformat_minor": 2
}
