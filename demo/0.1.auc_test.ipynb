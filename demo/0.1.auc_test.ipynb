{
 "cells": [
  {
   "cell_type": "markdown",
   "metadata": {},
   "source": [
    "This notebook is used to compute the auc score of any list."
   ]
  },
  {
   "cell_type": "code",
   "execution_count": 1,
   "metadata": {},
   "outputs": [],
   "source": [
    "import torch\n",
    "import openpyxl\n",
    "from PIL import Image\n",
    "from timm.data import resolve_data_config\n",
    "from timm.data.transforms_factory import create_transform\n",
    "import torchvision.transforms as transforms\n",
    "import cv2\n",
    "import os ,sys\n",
    "import numpy as np\n",
    "import torchvision.transforms as transforms\n",
    "from sklearn.metrics import roc_auc_score\n",
    "from sklearn.metrics import roc_curve,auc,f1_score\n",
    "import scipy\n",
    "import math"
   ]
  },
  {
   "cell_type": "code",
   "execution_count": 2,
   "metadata": {},
   "outputs": [],
   "source": [
    "info = openpyxl.load_workbook('D:/dataset_Huo_4/results/resnext101_result_patient.xlsx')\n",
    "# info = openpyxl.load_workbook('D:/dataset_Huo_1/MSS.xlsx')\n",
    "sheet = info['method2-2']"
   ]
  },
  {
   "cell_type": "code",
   "execution_count": 3,
   "metadata": {},
   "outputs": [],
   "source": [
    "true_label = []\n",
    "#MSIMUT\n",
    "for i in range(25):\n",
    "    true_label.append(1)\n",
    "#MSS\n",
    "for j in range(74):\n",
    "    true_label.append(0)"
   ]
  },
  {
   "cell_type": "code",
   "execution_count": 4,
   "metadata": {},
   "outputs": [],
   "source": [
    "pred1 = []\n",
    "pred_msi = []\n",
    "pred_mss = []\n",
    "for i in range(25):\n",
    "    pred1.append(sheet[\"B%d\" % (i+1)].value)\n",
    "    pred_msi.append(sheet[\"B%d\" % (i+1)].value)\n",
    "for j in range(74):\n",
    "    pred1.append(sheet[\"D%d\" % (j+1)].value)\n",
    "    pred_mss.append(sheet[\"D%d\" % (j+1)].value)\n",
    "# print(pred1)"
   ]
  },
  {
   "cell_type": "code",
   "execution_count": 5,
   "metadata": {},
   "outputs": [
    {
     "name": "stdout",
     "output_type": "stream",
     "text": [
      "0.6983783783783784\n"
     ]
    }
   ],
   "source": [
    "# pred1 = [0.723935389133627, 0.518151815181518, 0.86283185840708, 0.960629921259842, 0.983606557377049, 0.770083102493075, 0.877256317689531, 0.930966469428008, 0.456459330143541, 0.622623110677718, 0.808165548098434, 0.322498406628426, 0.484722222222222, 0.541427399507793, 0.2657223796034, 0.713090551181102, 0.796457326892109, 0.602898550724638, 0.6375, 0.708502024291498, 0.820833333333333, 0.306849315068493, 0.780114722753346, 0.775510204081633, 0.173469387755102, 0.1632, 0.447916666666667, 0.233278955954323, 0.172185430463576, 0.306487695749441, 0.226796929518493, 0.91015625, 0.120503597122302, 0.717054263565892, 0.638297872340426, 0.609929078014184, 0.186372745490982, 0.380085653104925, 0.540372670807453, 0.616888193901486, 0.376126126126126, 0.899038461538462, 0.629020194465221, 0.232142857142857, 0.0862470862470862, 0.557230454777721, 0.301499605367009, 0.30607476635514, 0.224965706447188, 0.445060018467221, 0.260869565217391, 0.156815440289505, 0.21123595505618, 0.203007518796992, 0.280251141552511, 0.133187772925764, 0.263537906137184, 0.298645759087669, 0.451292246520875, 0.207310966449675, 0.170648464163823, 0.0801457194899818, 0.320300751879699, 0.45037688442211, 0.411283728536386, 0.182412790697674, 0.267326732673267, 0.286632390745501, 0.297597042513863, 0.448, 0.147212543554007, 0.360493827160494, 0.235294117647059, 0.118618618618619, 0.261758691206544, 0.392156862745098, 0.195840554592721, 0.742857142857143, 1, 0.973809523809524, 0.533898305084746, 0.777272727272727, 0.427777777777778, 0.577160493827161, 0.466666666666667, 0.330049261083744, 0.432122370936902, 0.530909090909091, 0.51617873651772, 0.588560885608856, 0.056910569105691, 0.417710944026733, 0.202941176470588, 0.415786202610317, 0.447983014861996, 0.263977635782748, 0.0326377742108079, 0.140957446808511, 0.197530864197531, 0.134281200631912]\n",
    "auc_score1 = roc_auc_score(true_label,pred1)\n",
    "print(auc_score1) \n",
    "# 0.8175675675675677 - auc_score1 #resnet18\n",
    "# 0.7474012474012474 - auc_score1\n",
    "# 0.7422037422037422 - auc_score1\n",
    "# 0.7785862785862786 - auc_score1 #efficientnet\n",
    "# 0.8066528066528066 - auc_score1 #dpn131\n",
    "# 0.734927234927235- auc_score1 #resnext01"
   ]
  },
  {
   "cell_type": "code",
   "execution_count": 6,
   "metadata": {},
   "outputs": [
    {
     "name": "stdout",
     "output_type": "stream",
     "text": [
      "ci_msi: (-0.2966347994810734, 0.8288042068539374)\n"
     ]
    }
   ],
   "source": [
    "# dfmsi = len(pred_msi) - 1\n",
    "# dfmss = len(pred_mss) - 1\n",
    "# alpha= 0.95   # 是设定的可信区间, 可以理解为可信度; 数值是百分数,取值范围(0,1)\n",
    "# ci_msi = scipy.stats.t.interval(alpha, dfmsi, loc=np.mean(pred_msi), scale=scipy.stats.sem(pred_msi)) # ci是置信区间\n",
    "# ci_mss = scipy.stats.t.interval(alpha, dfmss, loc=np.mean(pred_mss), scale=scipy.stats.sem(pred_mss)) # ci是置信区间\n",
    "n, min_max, mean, var, skew, kurt = scipy.stats.describe(pred_mss)\n",
    "std = math.sqrt(var)\n",
    "ci_msi = scipy.stats.norm.interval(0.95, loc=mean, scale=std)\n",
    "print('ci_msi:',ci_msi)\n",
    "# print('ci_mss:',ci_mss)"
   ]
  },
  {
   "cell_type": "code",
   "execution_count": 7,
   "metadata": {},
   "outputs": [],
   "source": [
    "pred2 = []\n",
    "for i in range(25):\n",
    "    if sheet[\"B%d\" % (i+1)].value < 0.5:\n",
    "        pred2.append(0)\n",
    "    if sheet[\"B%d\" % (i+1)].value >= 0.5:\n",
    "        pred2.append(1)\n",
    "\n",
    "for j in range(74):\n",
    "    if sheet[\"D%d\" % (j+1)].value < 0.5:\n",
    "        pred2.append(0)\n",
    "    if sheet[\"D%d\" % (j+1)].value >= 0.5:\n",
    "        pred2.append(1)\n",
    "# print(pred2)"
   ]
  },
  {
   "cell_type": "code",
   "execution_count": 8,
   "metadata": {},
   "outputs": [
    {
     "name": "stdout",
     "output_type": "stream",
     "text": [
      "0.6318918918918919\n"
     ]
    }
   ],
   "source": [
    "auc_score2 = roc_auc_score(true_label,pred2)\n",
    "print(auc_score2)"
   ]
  },
  {
   "cell_type": "code",
   "execution_count": 9,
   "metadata": {},
   "outputs": [
    {
     "name": "stdout",
     "output_type": "stream",
     "text": [
      "0.6983783783783784\n"
     ]
    },
    {
     "data": {
      "image/png": "[encoded data removed]",
      "text/plain": [
       "<Figure size 432x288 with 1 Axes>"
      ]
     },
     "metadata": {
      "needs_background": "light"
     },
     "output_type": "display_data"
    }
   ],
   "source": [
    "from sklearn.metrics import roc_curve,auc\n",
    "fpr,tpr,thresholds = roc_curve(true_label,pred1,pos_label=1)\n",
    "fpr2,tpr2,thresholds2 = roc_curve(true_label,pred2,pos_label=1)\n",
    "\n",
    "import matplotlib.pyplot as plt\n",
    "plt.plot(fpr, tpr)\n",
    "# plt.plot(fpr2, tpr2)\n",
    "plt.xlim([0.0, 1.0])\n",
    "plt.ylim([0.0, 1.0])\n",
    "plt.title('ROC curve for classifier')\n",
    "plt.xlabel('False Positive Rate (1 - Specificity)')\n",
    "plt.ylabel('True Positive Rate (Sensitivity)')\n",
    "plt.grid(True)\n",
    "print(auc(fpr, tpr))"
   ]
  }
 ],
 "metadata": {
  "interpreter": {
   "hash": "aa88eb80fe6aea0a2f4aff8fa8849bac35c0cecd21d1c3c7c22b82a5cf54fb2a"
  },
  "kernelspec": {
   "display_name": "Python 3.7.10 64-bit ('tf2': conda)",
   "name": "python3"
  },
  "language_info": {
   "codemirror_mode": {
    "name": "ipython",
    "version": 3
   },
   "file_extension": ".py",
   "mimetype": "text/x-python",
   "name": "python",
   "nbconvert_exporter": "python",
   "pygments_lexer": "ipython3",
   "version": "3.7.10"
  },
  "orig_nbformat": 4
 },
 "nbformat": 4,
 "nbformat_minor": 2
}
