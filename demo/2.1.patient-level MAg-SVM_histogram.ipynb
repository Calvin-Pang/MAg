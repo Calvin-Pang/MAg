{
 "cells": [
  {
   "cell_type": "markdown",
   "metadata": {},
   "source": [
    "This file is used for patient-level aggregation. Here we use SVM to train and classify the patients' patch-level probability histogram."
   ]
  },
  {
   "cell_type": "code",
   "execution_count": 2132,
   "metadata": {},
   "outputs": [],
   "source": [
    "import torch\n",
    "import numpy as np\n",
    "import openpyxl\n",
    "import matplotlib.pyplot as plt\n",
    "from openpyxl import load_workbook\n",
    "import torch.nn as nn\n",
    "from sklearn import preprocessing\n",
    "import math\n",
    "import pandas as pd\n",
    "import torch.nn.functional as F\n",
    "from sklearn.metrics import accuracy_score\n",
    "from sklearn.metrics import roc_auc_score,roc_curve,auc,f1_score,balanced_accuracy_score\n",
    "from sklearn import linear_model\n",
    "from sklearn import svm,decomposition\n",
    "#The files here is in folder /MAg/datasets/,Please note that the histogram-based training set, test set, \n",
    "#and validation set of each model will be placed in the same folder, for example, placed in /MAg/datasets/CRC_DX/resnet18/\n",
    "dataset = load_workbook(path_to_train_features,data_only=True)\n",
    "dataset_x = dataset.active\n",
    "dataset_test = load_workbook(path_to_test_features,data_only=True)\n",
    "dataset_tst = dataset_test.active\n",
    "validation = load_workbook(path_to_validation_features,data_only=True)\n",
    "val_tst = validation.active\n",
    "# number_train_MSS = load_workbook('D:/dataset_Huo_1/number/image_num_train_MSS.xlsx',data_only=True)\n",
    "# num_train_MSS = number_train_MSS.active\n",
    "# number_train_MSI = load_workbook('D:/dataset_Huo_1/number/image_num_train_MSI.xlsx',data_only=True)\n",
    "# num_train_MSI = number_train_MSI.active\n",
    "# number_val_MSS = load_workbook('D:/dataset_Huo_1/number/image_num_val_MSS.xlsx',data_only=True)\n",
    "# num_val_MSS = number_val_MSS.active\n",
    "# number_val_MSI = load_workbook('D:/dataset_Huo_1/number/image_num_val_MSI.xlsx',data_only=True)\n",
    "# num_val_MSI = number_val_MSI.active\n",
    "# number_test_MSS = load_workbook('D:/dataset_Huo_1/number/image_num_test_MSS.xlsx',data_only=True)\n",
    "# num_test_MSS = number_test_MSS.active\n",
    "# number_test_MSI = load_workbook('D:/dataset_Huo_1/number/image_num_test_MSI.xlsx',data_only=True)\n",
    "# num_test_MSI = number_test_MSI.active\n",
    "# MSI_train_other_info = load_workbook('D:/dataset_Huo_4/MSIMUT_train.xlsx',data_only=True)\n",
    "# MSI_train_other_inf = MSI_train_other_info.active\n",
    "# MSS_train_other_info = load_workbook('D:/dataset_Huo_4/MSS_train.xlsx',data_only=True)\n",
    "# MSS_train_other_inf = MSS_train_other_info.active\n",
    "# MSI_test_other_info = load_workbook('D:/dataset_Huo_4/MSIMUT_test.xlsx',data_only=True)\n",
    "# MSI_test_other_inf = MSI_test_other_info.active\n",
    "# MSS_test_other_info = load_workbook('D:/dataset_Huo_4/MSS_test.xlsx',data_only=True)\n",
    "# MSS_test_other_inf = MSS_test_other_info.active\n",
    "# MSI_val_other_info = load_workbook('D:/dataset_Huo_4/MSIMUT_validation.xlsx',data_only=True)\n",
    "# MSI_val_other_inf = MSI_val_other_info.active\n",
    "# MSS_val_other_info = load_workbook('D:/dataset_Huo_4/MSS_validation.xlsx',data_only=True)\n",
    "# MSS_val_other_inf = MSS_val_other_info.active\n",
    "dimension = 10 # the dimensions of the histogram"
   ]
  },
  {
   "cell_type": "code",
   "execution_count": 2133,
   "metadata": {},
   "outputs": [],
   "source": [
    "# num_train = []\n",
    "# num_val = []\n",
    "# num_test = []\n",
    "# for i in range(160):\n",
    "#     num_train.append(num_train_MSS.cell(i+1,1).value)\n",
    "# for j in range(28):\n",
    "#     num_train.append(num_train_MSI.cell(j+1,1).value)\n",
    "# for a in range(61):\n",
    "#     num_val.append(num_val_MSS.cell(a+1,1).value)\n",
    "# for b in range(11):\n",
    "#     num_val.append(num_val_MSI.cell(b+1,1).value)\n",
    "# for a in range(74):\n",
    "#     num_test.append(num_test_MSS.cell(a+1,1).value)\n",
    "# for b in range(26):\n",
    "#     num_test.append(num_test_MSI.cell(b+1,1).value)"
   ]
  },
  {
   "cell_type": "code",
   "execution_count": 2134,
   "metadata": {},
   "outputs": [],
   "source": [
    "# train_gender = []\n",
    "# train_age = []\n",
    "# test_gender = []\n",
    "# test_age = []\n",
    "# val_gender = []\n",
    "# val_age = []\n",
    "# for i in range(101):\n",
    "#     train_gender.append(MSS_train_other_inf.cell(2,i+1).value)\n",
    "#     train_age.append(MSS_train_other_inf.cell(3,i+1).value)\n",
    "# for j in range(23):\n",
    "#     train_gender.append(MSI_train_other_inf.cell(2,j+1).value)\n",
    "#     train_age.append(MSI_train_other_inf.cell(3,j+1).value)\n",
    "# for a in range(74):\n",
    "#     test_gender.append(MSS_test_other_inf.cell(2,a+1).value)\n",
    "#     test_age.append(MSS_test_other_inf.cell(3,a+1).value)\n",
    "# for b in range(25):\n",
    "#     test_gender.append(MSI_test_other_inf.cell(2,b+1).value)\n",
    "#     test_age.append(MSI_test_other_inf.cell(3,b+1).value)\n",
    "# for a in range(49):\n",
    "#     val_gender.append(MSS_val_other_inf.cell(2,a+1).value)\n",
    "#     val_age.append(MSS_val_other_inf.cell(3,a+1).value)\n",
    "# for b in range(12):\n",
    "#     val_gender.append(MSI_val_other_inf.cell(2,b+1).value)\n",
    "#     val_age.append(MSI_val_other_inf.cell(3,b+1).value)"
   ]
  },
  {
   "cell_type": "code",
   "execution_count": 2135,
   "metadata": {},
   "outputs": [],
   "source": [
    "#Here the files named path_to_the_counting_baseline_result is in the folder /MAg/results/counting_baseline_results/\n",
    "info = openpyxl.load_workbook(path_to_the_counting_baseline_result,data_only=True)\n",
    "# info = openpyxl.load_workbook('D:/dataset_Huo_1/MSS.xlsx')\n",
    "sheet = info['method2-2']\n",
    "pred1 = []\n",
    "pred_msi = []\n",
    "pred_mss = []\n",
    "for j in range(74):\n",
    "    pred1.append(sheet[\"D%d\" % (j+1)].value)\n",
    "    pred_mss.append(sheet[\"D%d\" % (j+1)].value)\n",
    "for i in range(25):\n",
    "    pred1.append(sheet[\"B%d\" % (i+1)].value)\n",
    "    pred_msi.append(sheet[\"B%d\" % (i+1)].value)\n",
    "# print(pred1)"
   ]
  },
  {
   "cell_type": "code",
   "execution_count": 2136,
   "metadata": {},
   "outputs": [],
   "source": [
    "pred_label_1 = []\n",
    "\n",
    "for j in range(74):\n",
    "    if sheet[\"D%d\" % (j+1)].value < 0.5:\n",
    "        pred_label_1.append(0)\n",
    "    if sheet[\"D%d\" % (j+1)].value >= 0.5:\n",
    "        pred_label_1.append(1)\n",
    "        \n",
    "for i in range(25):\n",
    "    if sheet[\"B%d\" % (i+1)].value < 0.5:\n",
    "        pred_label_1.append(0)\n",
    "    if sheet[\"B%d\" % (i+1)].value >= 0.5:\n",
    "        pred_label_1.append(1)\n"
   ]
  },
  {
   "cell_type": "code",
   "execution_count": 2137,
   "metadata": {},
   "outputs": [],
   "source": [
    "'''\n",
    "create the training set, validation set, test set in patient level.\n",
    "'''\n",
    "# pca = decomposition.PCA(n_components=3,whiten=True)\n",
    "X = [[0]*10 for i in range(124)]\n",
    "y = []\n",
    "for i in range(124):\n",
    "    for j in range(10):\n",
    "        X[i][j] = dataset_x.cell(i+1,j+1).value\n",
    "    # X[i][10] = train_gender[i]\n",
    "    # X[i][11] = train_age[i] / max(train_age)\n",
    "    y.append(float(dataset_x.cell(i+1,12).value))\n",
    "# X = pd.DataFrame(X)\n",
    "# mean_data = X.mean()\n",
    "# std_data = X.std()\n",
    "# X= (X-X.mean())/X.std()\n",
    "# X = np.array(X)\n",
    "# X = pca.fit_transform(np.array(X))\n",
    "\n",
    "\n",
    "X_val = [[0]*dimension for i in range(61)]\n",
    "y_val = []\n",
    "for i in range(61):\n",
    "    for j in range(10):\n",
    "        X_val[i][j] = val_tst.cell(i+1,j+1).value \n",
    "    # X_val[i][10] = val_gender[i]\n",
    "    # X_val[i][11] = val_age[i] / max(val_age)\n",
    "    y_val.append(float(val_tst.cell(i+1,12).value))\n",
    "# X_val = np.array(X_val)\n",
    "# X_val = pca.fit_transform(np.array(X_val))\n",
    "# X_val = pd.DataFrame(X_val)\n",
    "# X_val = (X_val-mean_data)/std_data\n",
    "# X_val = np.array(X_val)\n",
    "# X_val = preprocessing.scale(np.array(X_val))\n",
    "\n",
    "X_test = [[0]*dimension for i in range(99)]\n",
    "y_test = []\n",
    "for i in range(99):\n",
    "    for j in range(10):\n",
    "        X_test[i][j] = dataset_tst.cell(i+1,j+1).value \n",
    "    # X_test[i][10] = test_gender[i]\n",
    "    # X_test[i][11] = test_age[i] / max(test_age)\n",
    "    y_test.append(float(dataset_tst.cell(i+1,12).value))\n",
    "# X_test = np.array(X_test)\n",
    "# X_test = pca.fit_transform(np.array(X_test))\n",
    "# X_test = pd.DataFrame(X_test)\n",
    "# X_test = (X_test-mean_data)/std_data\n",
    "# X_test = np.array(X_test)\n",
    "# X_test = preprocessing.scale(np.array(X_test))\n",
    "\n",
    "true_val_label = []\n",
    "for j in range(49):\n",
    "    true_val_label.append(0)\n",
    "for i in range(12):\n",
    "    true_val_label.append(1)\n",
    "    \n",
    "true_label = []\n",
    "for j in range(74):\n",
    "    true_label.append(0)\n",
    "for i in range(25):\n",
    "    true_label.append(1)"
   ]
  },
  {
   "cell_type": "code",
   "execution_count": 2138,
   "metadata": {},
   "outputs": [
    {
     "name": "stdout",
     "output_type": "stream",
     "text": [
      "right mss: 45 / 49\n",
      "right msi: 8 / 12\n",
      "f1_val: 0.6666666666666666\n",
      "acc: 53 / 61\n",
      "acc: 0.8688524590163934\n"
     ]
    }
   ],
   "source": [
    "'''\n",
    "the SVM we used\n",
    "'''\n",
    "# clt = linear_model.LogisticRegression(penalty='l2',C=0.5,class_weight = {0:0.179,1:0.821},solver = 'liblinear')\n",
    "clt = svm.SVC(C = 5,kernel = 'rbf',probability = True,class_weight = {0:0.0061,1:0.9939})\n",
    "clt.fit(X,y)\n",
    "test = [[]]\n",
    "\n",
    "pred_label_val = clt.predict(X_val)\n",
    "# print(label)\n",
    "right_mss = 0\n",
    "right_msi = 0\n",
    "for k in range(49):\n",
    "    if pred_label_val[k] == 0:\n",
    "        right_mss = right_mss + 1\n",
    "for k in range(12):\n",
    "    if pred_label_val[k + 49] == 1:\n",
    "        right_msi = right_msi + 1\n",
    "print('right mss:',right_mss,'/ 49')\n",
    "print('right msi:',right_msi,'/ 12')\n",
    "print('f1_val:',f1_score(true_val_label,pred_label_val))\n",
    "print('acc:', right_mss + right_msi,'/ 61')\n",
    "print('acc:', (right_mss + right_msi) / 61)\n"
   ]
  },
  {
   "cell_type": "code",
   "execution_count": 2139,
   "metadata": {},
   "outputs": [
    {
     "name": "stdout",
     "output_type": "stream",
     "text": [
      "right mss: 57 / 74\n",
      "right msi: 16 / 25\n",
      "f1: 0.5517241379310344\n",
      "acc: 73 / 99\n",
      "acc: 0.7373737373737373\n"
     ]
    }
   ],
   "source": [
    "'''\n",
    "test the trained SVM model\n",
    "'''\n",
    "pred_label_test = clt.predict(X_test)\n",
    "# print(label)\n",
    "right_mss = 0\n",
    "right_msi = 0\n",
    "for k in range(74):\n",
    "    if pred_label_test[k] == 0:\n",
    "        right_mss = right_mss + 1\n",
    "for k in range(25):\n",
    "    if pred_label_test[k + 74] == 1:\n",
    "        right_msi = right_msi + 1\n",
    "f1 = f1_score(true_label,pred_label_test)\n",
    "print('right mss:',right_mss,'/ 74')\n",
    "print('right msi:',right_msi,'/ 25')\n",
    "print('f1:',f1)\n",
    "print('acc:', right_mss + right_msi,'/ 99')\n",
    "print('acc:', (right_mss + right_msi) / 99)"
   ]
  },
  {
   "cell_type": "code",
   "execution_count": 2140,
   "metadata": {},
   "outputs": [
    {
     "name": "stdout",
     "output_type": "stream",
     "text": [
      "0.7302702702702704\n"
     ]
    }
   ],
   "source": [
    "pred_test = []\n",
    "for i in range(99):\n",
    "    test[0] = X_test[i]\n",
    "    pred_buf = clt.predict_proba(test)\n",
    "    pred_test.append(pred_buf[0][1])\n",
    "auc_score = roc_auc_score(true_label,pred_test)\n",
    "print(auc_score)"
   ]
  },
  {
   "cell_type": "code",
   "execution_count": 2141,
   "metadata": {},
   "outputs": [
    {
     "name": "stdout",
     "output_type": "stream",
     "text": [
      "f1_score_before 0.576271186440678 balanced score before: 0.7251351351351352\n",
      "f1_score_after 0.5517241379310344 balanced score after: 0.7051351351351351\n"
     ]
    }
   ],
   "source": [
    "print( \"f1_score_before\",f1_score(true_label, pred_label_1) ,'balanced score before:',balanced_accuracy_score(true_label, pred_label_1))\n",
    "print( \"f1_score_after\", f1_score(true_label, pred_label_test),'balanced score after:',balanced_accuracy_score(true_label, pred_label_test))"
   ]
  },
  {
   "cell_type": "code",
   "execution_count": 2142,
   "metadata": {},
   "outputs": [
    {
     "name": "stdout",
     "output_type": "stream",
     "text": [
      "0.7591891891891892\n",
      "0.7302702702702704\n"
     ]
    },
    {
     "data": {
      "image/png": "[encoded data removed]",
      "text/plain": [
       "<Figure size 432x288 with 1 Axes>"
      ]
     },
     "metadata": {
      "needs_background": "light"
     },
     "output_type": "display_data"
    }
   ],
   "source": [
    "fpr,tpr,thresholds = roc_curve(true_label,pred1,pos_label=1)\n",
    "fpr2,tpr2,thresholds2 = roc_curve(true_label,pred_test,pos_label=1)\n",
    "plt.plot(fpr, tpr)\n",
    "plt.plot(fpr2, tpr2)\n",
    "plt.xlim([0.0, 1.0])\n",
    "plt.ylim([0.0, 1.0])\n",
    "plt.title('ROC curve for classifier')\n",
    "plt.xlabel('False Positive Rate (1 - Specificity)')\n",
    "plt.ylabel('True Positive Rate (Sensitivity)')\n",
    "plt.grid(True)\n",
    "print(auc(fpr, tpr))\n",
    "print(auc(fpr2, tpr2))"
   ]
  }
 ],
 "metadata": {
  "interpreter": {
   "hash": "aa88eb80fe6aea0a2f4aff8fa8849bac35c0cecd21d1c3c7c22b82a5cf54fb2a"
  },
  "kernelspec": {
   "display_name": "Python 3.7.10 64-bit ('tf2': conda)",
   "name": "python3"
  },
  "language_info": {
   "codemirror_mode": {
    "name": "ipython",
    "version": 3
   },
   "file_extension": ".py",
   "mimetype": "text/x-python",
   "name": "python",
   "nbconvert_exporter": "python",
   "pygments_lexer": "ipython3",
   "version": "3.7.10"
  },
  "orig_nbformat": 4
 },
 "nbformat": 4,
 "nbformat_minor": 2
}
