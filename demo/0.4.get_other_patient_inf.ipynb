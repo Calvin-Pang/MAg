{
 "cells": [
  {
   "cell_type": "markdown",
   "metadata": {},
   "source": [
    "This notebook is used to get other potentially helpful information (age, gender) of patients."
   ]
  },
  {
   "cell_type": "code",
   "execution_count": 19,
   "metadata": {},
   "outputs": [],
   "source": [
    "import pandas as pd \n",
    "import openpyxl\n",
    "from openpyxl import load_workbook\n",
    "data = pd.read_excel('D:/dataset_Huo_1/merged_TCGA_TUM_clini_table_v1.xlsx',index_col = 'submitter_id')\n",
    "patient_info = load_workbook('D:/dataset_Huo_4/MSIMUT_test.xlsx',data_only=True)\n",
    "patient_inf = patient_info.active"
   ]
  },
  {
   "cell_type": "code",
   "execution_count": 20,
   "metadata": {},
   "outputs": [],
   "source": [
    "for i in range(25):\n",
    "    name = patient_inf.cell(1,i+1).value\n",
    "    if data.loc[name,'gender'] == 'male':\n",
    "        patient_inf.cell(2,i+1).value = 1\n",
    "    elif data.loc[name,'gender'] == 'female':\n",
    "        patient_inf.cell(2,i+1).value = 0\n",
    "for i in range(25):\n",
    "    name = patient_inf.cell(1,i+1).value\n",
    "    patient_inf.cell(3,i+1).value = data.loc[name,'age_at_initial_pathologic_diagnosis']"
   ]
  },
  {
   "cell_type": "code",
   "execution_count": 21,
   "metadata": {},
   "outputs": [],
   "source": [
    "patient_info.save('D:/dataset_Huo_4/MSIMUT_test.xlsx')"
   ]
  }
 ],
 "metadata": {
  "interpreter": {
   "hash": "aa88eb80fe6aea0a2f4aff8fa8849bac35c0cecd21d1c3c7c22b82a5cf54fb2a"
  },
  "kernelspec": {
   "display_name": "Python 3.7.10 64-bit ('tf2': conda)",
   "name": "python3"
  },
  "language_info": {
   "codemirror_mode": {
    "name": "ipython",
    "version": 3
   },
   "file_extension": ".py",
   "mimetype": "text/x-python",
   "name": "python",
   "nbconvert_exporter": "python",
   "pygments_lexer": "ipython3",
   "version": "3.7.10"
  },
  "orig_nbformat": 4
 },
 "nbformat": 4,
 "nbformat_minor": 2
}
