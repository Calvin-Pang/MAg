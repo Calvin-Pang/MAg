{
 "cells": [
  {
   "cell_type": "markdown",
   "metadata": {},
   "source": [
    "This file is used for patient-level aggregation. Here we use a two-layer full-connected neural network to train and classify the patients' patch-level probability histogram."
   ]
  },
  {
   "cell_type": "code",
   "execution_count": 184,
   "metadata": {},
   "outputs": [],
   "source": [
    "import torch\n",
    "import numpy as np\n",
    "import matplotlib.pyplot as plt\n",
    "import pandas as pd\n",
    "from openpyxl import load_workbook\n",
    "import torch.nn as nn\n",
    "import torch.nn.functional as F\n",
    "from sklearn.metrics import accuracy_score\n",
    "from sklearn.metrics import roc_auc_score,f1_score,balanced_accuracy_score\n",
    "from sklearn import linear_model\n",
    "from sklearn import svm,decomposition\n",
    "#The files here is in folder /MAg/datasets/,Please note that the histogram-based training set, test set, \n",
    "#and validation set of each model will be placed in the same folder, for example, placed in /MAg/datasets/CRC_DX/resnet18/\n",
    "dataset = load_workbook(path_to_train_features,data_only=True)\n",
    "dataset_x = dataset.active\n",
    "dataset_test = load_workbook(path_to_test_features,data_only=True)\n",
    "dataset_tst = dataset_test.active\n",
    "validation = load_workbook(path_to_validation_features,data_only=True)\n",
    "val_tst = validation.active\n",
    "\n",
    "# MSI_train_other_info = load_workbook('D:/dataset_Huo_4/MSIMUT_train.xlsx',data_only=True)\n",
    "# MSI_train_other_inf = MSI_train_other_info.active\n",
    "# MSS_train_other_info = load_workbook('D:/dataset_Huo_4/MSS_train.xlsx',data_only=True)\n",
    "# MSS_train_other_inf = MSS_train_other_info.active\n",
    "# MSI_test_other_info = load_workbook('D:/dataset_Huo_4/MSIMUT_test.xlsx',data_only=True)\n",
    "# MSI_test_other_inf = MSI_test_other_info.active\n",
    "# MSS_test_other_info = load_workbook('D:/dataset_Huo_4/MSS_test.xlsx',data_only=True)\n",
    "# MSS_test_other_inf = MSS_test_other_info.active\n",
    "# MSI_val_other_info = load_workbook('D:/dataset_Huo_4/MSIMUT_validation.xlsx',data_only=True)\n",
    "# MSI_val_other_inf = MSI_val_other_info.active\n",
    "# MSS_val_other_info = load_workbook('D:/dataset_Huo_4/MSS_validation.xlsx',data_only=True)\n",
    "# MSS_val_other_inf = MSS_val_other_info.active"
   ]
  },
  {
   "cell_type": "code",
   "execution_count": 185,
   "metadata": {},
   "outputs": [],
   "source": [
    "train_gender = []\n",
    "train_age = []\n",
    "test_gender = []\n",
    "test_age = []\n",
    "val_gender = []\n",
    "val_age = []\n",
    "# for i in range(101):\n",
    "#     train_gender.append(MSS_train_other_inf.cell(2,i+1).value)\n",
    "#     train_age.append(MSS_train_other_inf.cell(3,i+1).value)\n",
    "# for j in range(23):\n",
    "#     train_gender.append(MSI_train_other_inf.cell(2,j+1).value)\n",
    "#     train_age.append(MSI_train_other_inf.cell(3,j+1).value)\n",
    "# for a in range(74):\n",
    "#     test_gender.append(MSS_test_other_inf.cell(2,a+1).value)\n",
    "#     test_age.append(MSS_test_other_inf.cell(3,a+1).value)\n",
    "# for b in range(25):\n",
    "#     test_gender.append(MSI_test_other_inf.cell(2,b+1).value)\n",
    "#     test_age.append(MSI_test_other_inf.cell(3,b+1).value)\n",
    "# for a in range(49):\n",
    "#     val_gender.append(MSS_val_other_inf.cell(2,a+1).value)\n",
    "#     val_age.append(MSS_val_other_inf.cell(3,a+1).value)\n",
    "# for b in range(12):\n",
    "#     val_gender.append(MSI_val_other_inf.cell(2,b+1).value)\n",
    "#     val_age.append(MSI_val_other_inf.cell(3,b+1).value)"
   ]
  },
  {
   "cell_type": "code",
   "execution_count": 186,
   "metadata": {},
   "outputs": [],
   "source": [
    "train_data = [[0]*13 for i in range(193)]\n",
    "for i in range(193):\n",
    "    for j in range(10):\n",
    "        train_data[i][j] = dataset_x.cell(i+1,j+1).value\n",
    "    train_data[i][12] = float(dataset_x.cell(i+1,12).value)\n",
    "\n",
    "for l in range(101):\n",
    "    train_data[l][10] = train_gender[l]\n",
    "    train_data[l][11] = train_age[l] / max(train_age)\n",
    "\n",
    "for l in range(23):\n",
    "    train_data[l+101][10] = train_gender[l+101]\n",
    "    train_data[l+101][11] = train_age[l+101] / max(train_age)\n",
    "    train_data[l+124][10] = train_gender[l+101]\n",
    "    train_data[l+124][11] = train_age[l+101] / max(train_age)\n",
    "    train_data[l+147][10] = train_gender[l+101]\n",
    "    train_data[l+147][11] = train_age[l+101] / max(train_age)\n",
    "    train_data[l+170][10] = train_gender[l+101]\n",
    "    train_data[l+170][11] = train_age[l+101] / max(train_age)\n",
    "train_data = np.array(train_data)\n",
    "# pca = decomposition.PCA(n_components='mle',whiten=True)\n",
    "lable = np.arange(193)\n",
    "# permutation = np.random.permutation(lable.shape[0])\n",
    "# data_shuffle = train_data[permutation,:]\n",
    "# print(data_shuffle)\n",
    "# for m in range(193):\n",
    "#     print(train_data[m])"
   ]
  },
  {
   "cell_type": "code",
   "execution_count": 187,
   "metadata": {},
   "outputs": [],
   "source": [
    "X_test = [[0]*12 for i in range(99)]\n",
    "# y = [[0]*1 for i in range(188)]\n",
    "y_test = []\n",
    "for i in range(99):\n",
    "    for j in range(10):\n",
    "        X_test[i][j] = dataset_tst.cell(i+1,j+1).value\n",
    "    X_test[i][10] = test_gender[i]\n",
    "    X_test[i][11] = test_age[i] / max(test_age)\n",
    "    y_test.append(float(dataset_tst.cell(i+1,12).value))\n",
    "# X_test = np.array(X_test)\n",
    "# X_test = pca.fit_transform(X_test)\n",
    "# X_test"
   ]
  },
  {
   "cell_type": "code",
   "execution_count": 188,
   "metadata": {},
   "outputs": [],
   "source": [
    "X_val = [[0]*12 for i in range(61)]\n",
    "# y_val = [[0]*1 for i in range(61)]\n",
    "y_val = []\n",
    "for i in range(61):\n",
    "    for j in range(10):\n",
    "        X_val[i][j] = val_tst.cell(i+1,j+1).value\n",
    "    X_val[i][10] = val_gender[i]\n",
    "    X_val[i][11] = val_age[i] / max(val_age)\n",
    "    y_val.append(float(val_tst.cell(i+1,12).value))\n",
    "# X_val = np.array(X_val)   \n",
    "# X_val = pca.fit_transform(X_val)\n",
    "val_msi = 0\n",
    "val_mss = 0\n",
    "pred_label_val = []\n",
    "for j in range(49):\n",
    "    if val_tst.cell(j+1,11).value < 0.5:\n",
    "        pred_label_val.append(0)\n",
    "        val_mss = val_mss + 1\n",
    "    if val_tst.cell(j+1,11).value >= 0.5:\n",
    "        pred_label_val.append(1)\n",
    "        \n",
    "for i in range(12):\n",
    "    if val_tst.cell(i+49,11).value < 0.5:\n",
    "        pred_label_val.append(0)\n",
    "    if val_tst.cell(i+49,11).value >= 0.5:\n",
    "        pred_label_val.append(1)\n",
    "        val_msi = val_msi + 1"
   ]
  },
  {
   "cell_type": "code",
   "execution_count": 189,
   "metadata": {},
   "outputs": [],
   "source": [
    "X_test = torch.from_numpy(np.array(X_test)).type(torch.FloatTensor)\n",
    "y_test = torch.from_numpy(np.array(y_test)).type(torch.LongTensor)\n",
    "X_val = torch.from_numpy(np.array(X_val)).type(torch.FloatTensor)\n",
    "y_val = torch.from_numpy(np.array(y_val)).type(torch.LongTensor)"
   ]
  },
  {
   "cell_type": "code",
   "execution_count": 190,
   "metadata": {},
   "outputs": [],
   "source": [
    "true_label = []\n",
    "for j in range(74):\n",
    "    true_label.append(0)\n",
    "for i in range(25):\n",
    "    true_label.append(1)"
   ]
  },
  {
   "cell_type": "code",
   "execution_count": 191,
   "metadata": {},
   "outputs": [],
   "source": [
    "true_val_label = []\n",
    "for j in range(49):\n",
    "    true_val_label.append(0)\n",
    "for i in range(12):\n",
    "    true_val_label.append(1)"
   ]
  },
  {
   "cell_type": "code",
   "execution_count": 192,
   "metadata": {},
   "outputs": [
    {
     "name": "stdout",
     "output_type": "stream",
     "text": [
      "40 / 49 6 / 12\n",
      "0.4444444444444445\n"
     ]
    }
   ],
   "source": [
    "val_f1 = f1_score(true_val_label,pred_label_val)\n",
    "print(val_mss,'/ 49',val_msi,'/ 12')\n",
    "print(val_f1)"
   ]
  },
  {
   "cell_type": "code",
   "execution_count": 193,
   "metadata": {},
   "outputs": [],
   "source": [
    "class Model(nn.Module):\n",
    "    def __init__(self):\n",
    "        super(Model,self).__init__()\n",
    "        self.fc1 = nn.Linear(12,15)\n",
    "        self.relu = nn.ReLU()\n",
    "        self.fc2 = nn.Linear(15,2)\n",
    "        self.dropout = nn.Dropout(p=0.2)\n",
    "        \n",
    "    def forward(self,x):\n",
    "        out = self.fc1(x)\n",
    "        out = self.dropout(out)\n",
    "        out = self.relu(out)\n",
    "        out = self.fc2(out)\n",
    "        # out = F.softmax(out,dim = 0)\n",
    "        return out\n",
    "             \n",
    "    def predict(self,x):\n",
    "        pred = F.softmax(self.forward(x),dim = 1)\n",
    "        # print(pred)\n",
    "        # pred = self.forward(x)\n",
    "        ans = []\n",
    "        # ans.append(pred)\n",
    "        for i in range(len(pred)):\n",
    "            # ans.append(pred[i][1] / (pred[i][0] + pred[i][1]))\n",
    "            ans.append(pred[i][1])\n",
    "        return torch.tensor(ans)"
   ]
  },
  {
   "cell_type": "code",
   "execution_count": 194,
   "metadata": {},
   "outputs": [],
   "source": [
    "model = Model()"
   ]
  },
  {
   "cell_type": "code",
   "execution_count": 195,
   "metadata": {},
   "outputs": [],
   "source": [
    "weight = [0.33,0.67]\n",
    "weight = torch.tensor(weight)\n",
    "criterion = nn.CrossEntropyLoss(weight)  #交叉熵损失函数\n",
    "optimizer = torch.optim.Adam(model.parameters(), lr=0.001) #Adam梯度优化器"
   ]
  },
  {
   "cell_type": "code",
   "execution_count": null,
   "metadata": {},
   "outputs": [],
   "source": [
    "# model.load_state_dict(torch.load('D:/dataset_Huo_1/pretrained.pth'))\n",
    "print(val_f1)\n",
    "epoch = 8000\n",
    "epochs = []\n",
    "losses = []\n",
    "score_list = []    \n",
    "val_right_mss = []\n",
    "val_right_msi = []\n",
    "for i in range(epoch):\n",
    "    mss = 0\n",
    "    msi = 0\n",
    "    #shuffle操作\n",
    "    X = [[0]*12 for i in range(193)]\n",
    "    y = []\n",
    "    permutation = np.random.permutation(lable.shape[0])\n",
    "    data_shuffle = train_data[permutation,:]\n",
    "    for j in range(193):\n",
    "        for m in range(10):\n",
    "            X[j][m] = data_shuffle[j][m]\n",
    "        y.append(data_shuffle[j][10])\n",
    "    X = torch.from_numpy(np.array(X)).type(torch.FloatTensor)\n",
    "    y = torch.from_numpy(np.array(y)).type(torch.LongTensor)\n",
    "    #此epoch的shuffle结束\n",
    "     \n",
    "    model.train()\n",
    "    val_label = []\n",
    "    y_pred = model.forward(X)\n",
    "    loss = criterion(y_pred,y)\n",
    "    losses.append(loss.item())\n",
    "    epochs.append(i)\n",
    "    optimizer.zero_grad()\n",
    "    loss.backward()\n",
    "    optimizer.step()#训练过程\n",
    "\n",
    "    with torch.no_grad():\n",
    "        model.eval()\n",
    "        pred_val = model.predict(X_val)\n",
    "    pred_val = np.array(pred_val)\n",
    "    for j in range(len(pred_val)):\n",
    "        if pred_val[j] < 0.5:\n",
    "            val_label.append(0)\n",
    "        else:\n",
    "            val_label.append(1)\n",
    "    for m in range(49):\n",
    "        if val_label[m] == 0:\n",
    "            mss+=1\n",
    "    for b in range(12):\n",
    "        if val_label[b+49] == 1:\n",
    "            msi+=1\n",
    "    val_right_mss.append(mss)\n",
    "    val_right_msi.append(msi)\n",
    "    f1 = f1_score(true_val_label,val_label)\n",
    "    # balanced_acc = balanced_accuracy_score(true_val_label,val_label)\n",
    "    print(i,'loss:',loss.item(),'score:',f1)\n",
    "    score_list.append(f1)\n",
    "    path = 'D:/dataset_Huo_4/method3_buf/checkpoint' + str(i) + '.pth' #path to the trained patient-level models\n",
    "    torch.save(model.state_dict(),path)\n",
    "max_score = score_list[score_list.index(max(score_list))]\n",
    "# print('index of max checkpoint:',max_id)\n",
    "print('original val f1 score',val_f1)\n",
    "print('max score:',max_score)"
   ]
  },
  {
   "cell_type": "code",
   "execution_count": 197,
   "metadata": {},
   "outputs": [
    {
     "name": "stdout",
     "output_type": "stream",
     "text": [
      "number: 6\n",
      "88 0.5102040816326531\n",
      "568 0.5102040816326531\n",
      "569 0.5102040816326531\n",
      "570 0.5102040816326531\n",
      "578 0.5102040816326531\n",
      "579 0.5102040816326531\n"
     ]
    }
   ],
   "source": [
    "max_index = [i for i,x in enumerate(score_list) if x == max_score]\n",
    "bacc_select_list = []\n",
    "print('number:',len(max_index))\n",
    "for p in range(len(max_index)):\n",
    "    path = 'D:/dataset_Huo_4/method3_buf/checkpoint' + str(max_index[p]) + '.pth'\n",
    "    checkpoint = torch.load(path)\n",
    "    model.load_state_dict(checkpoint)\n",
    "    model.eval()\n",
    "    np.set_printoptions(suppress=True)\n",
    "    pred = model.predict(X_val)\n",
    "    pred = np.array(pred)\n",
    "    pred_label = []\n",
    "    for i in range(61):\n",
    "        if pred[i] < 0.5:\n",
    "            pred_label.append(0)\n",
    "        else:\n",
    "            pred_label.append(1)\n",
    "    y_val = np.array(y_val)\n",
    "    bacc_of_it = balanced_accuracy_score(y_val,pred_label)\n",
    "    # f1_score_it = f1_score(y_test,pred_label)\n",
    "    # balanced_acc_it = balanced_accuracy_score(y_test,pred_label)\n",
    "    bacc_select_list.append(bacc_of_it)\n",
    "    print(max_index[p],bacc_of_it)\n",
    "max_bacc = max(bacc_select_list)\n",
    "max_bacc_index = [x for i,x in enumerate(max_index) if bacc_select_list[i] == max_bacc]\n"
   ]
  },
  {
   "cell_type": "code",
   "execution_count": 198,
   "metadata": {},
   "outputs": [
    {
     "name": "stdout",
     "output_type": "stream",
     "text": [
      "number: 6\n",
      "88 0.47789115646258495\n",
      "568 0.3537414965986394\n",
      "569 0.3537414965986394\n",
      "570 0.3537414965986394\n",
      "578 0.3537414965986394\n",
      "579 0.3537414965986394\n",
      "1 / 49 12 / 12\n"
     ]
    }
   ],
   "source": [
    "auc_select_list = []\n",
    "print('number:',len(max_bacc_index))\n",
    "for p in range(len(max_bacc_index)):\n",
    "    path = 'D:/dataset_Huo_4/method3_buf/checkpoint' + str(max_bacc_index[p]) + '.pth'\n",
    "    checkpoint = torch.load(path)\n",
    "    model.load_state_dict(checkpoint)\n",
    "    model.eval()\n",
    "    np.set_printoptions(suppress=True)\n",
    "    pred = model.predict(X_val)\n",
    "    pred = np.array(pred)\n",
    "    pred_label = []\n",
    "    for i in range(61):\n",
    "        if pred[i] < 0.5:\n",
    "            pred_label.append(0)\n",
    "        else:\n",
    "            pred_label.append(1)\n",
    "    y_val = np.array(y_val)\n",
    "    auc_of_it = roc_auc_score(y_val,pred)\n",
    "    # f1_score_it = f1_score(y_test,pred_label)\n",
    "    # balanced_acc_it = balanced_accuracy_score(y_test,pred_label)\n",
    "    auc_select_list.append(auc_of_it)\n",
    "    print(max_bacc_index[p],auc_of_it)\n",
    "max_auc = max(auc_select_list)\n",
    "max_auc_index = [x for i,x in enumerate(max_bacc_index) if auc_select_list[i] == max_auc]\n",
    "print(val_right_mss[max_auc_index[0]],'/ 49',val_right_msi[max_auc_index[0]],'/ 12')"
   ]
  },
  {
   "cell_type": "code",
   "execution_count": 199,
   "metadata": {},
   "outputs": [
    {
     "name": "stdout",
     "output_type": "stream",
     "text": [
      "max_id 88\n",
      "AUC: 0.4416216216216216\n",
      "f1: 0.40983606557377045\n",
      "balanced_acc: 0.5135135135135135\n",
      "right mss: 2 / 74\n",
      "right msi: 25 / 25\n",
      "acc: 27 / 99\n",
      "acc: 0.2727272727272727\n"
     ]
    }
   ],
   "source": [
    "max_id = max_auc_index[0]\n",
    "print('max_id',max_id)\n",
    "max_path = 'D:/dataset_Huo_4/method3_buf/checkpoint' + str(max_id) + '.pth'\n",
    "# max_path = 'D:/dataset_Huo_4/method4_output/mobilenet_checkpoint.pth'\n",
    "checkpoint = torch.load(max_path)\n",
    "# model = Model()\n",
    "\n",
    "# checkpoint = torch.load('D:/dataset_Huo_1/method4_output/resnet18_checkpoint323.pth')\n",
    "model.load_state_dict(checkpoint)\n",
    "\n",
    "model.eval()\n",
    "# print(accuracy_score(model.predict(X_test),y_test))\n",
    "np.set_printoptions(suppress=True)\n",
    "pred = model.predict(X_test)\n",
    "pred = np.array(pred)\n",
    "# pred =  model.predict(X_test)\n",
    "pred_label = []\n",
    "for i in range(99):\n",
    "    if pred[i] < 0.5:\n",
    "        pred_label.append(0)\n",
    "    else:\n",
    "        pred_label.append(1)\n",
    "y_test = np.array(y_test)\n",
    "# print(pred_label)\n",
    "print('AUC:',roc_auc_score(y_test,pred))\n",
    "print('f1:',f1_score(y_test,pred_label))\n",
    "print('balanced_acc:',balanced_accuracy_score(y_test,pred_label))\n",
    "right_mss = 0\n",
    "right_msi = 0\n",
    "for k in range(74):\n",
    "    if pred_label[k] == 0:\n",
    "        right_mss = right_mss + 1\n",
    "for k in range(25):\n",
    "    if pred_label[k + 74] == 1:\n",
    "        right_msi = right_msi + 1\n",
    "print('right mss:',right_mss,'/ 74')\n",
    "print('right msi:',right_msi,'/ 25')\n",
    "print('acc:', right_mss + right_msi,'/ 99')\n",
    "print('acc:', (right_mss + right_msi) / 99)"
   ]
  },
  {
   "cell_type": "code",
   "execution_count": 200,
   "metadata": {},
   "outputs": [
    {
     "name": "stdout",
     "output_type": "stream",
     "text": [
      "0.5341839552731127\n",
      "0.527404568195343\n"
     ]
    }
   ],
   "source": [
    "print(sum(pred[0:74])/74)\n",
    "print(sum(pred[74:99])/25)"
   ]
  },
  {
   "cell_type": "code",
   "execution_count": 201,
   "metadata": {},
   "outputs": [
    {
     "name": "stdout",
     "output_type": "stream",
     "text": [
      "0.4416216216216216\n"
     ]
    }
   ],
   "source": [
    "true_label = []\n",
    "for j in range(74):\n",
    "    true_label.append(0)\n",
    "for i in range(25):\n",
    "    true_label.append(1)\n",
    "auc_score1 = roc_auc_score(true_label,pred)\n",
    "print(auc_score1)\n",
    "# print(auc_score1 - 0.7952182952182952) # resnet18\n",
    "# print(auc_score1 - 0.7406444906444907) # mobilenetv2_0905\n",
    "# print(auc_score1 - 0.7156964656964657) # mobilenetv2\n",
    "# print(auc_score1 - 0.7661122661122661) # efficientnetb4\n",
    "# print(auc_score1 - 0.804054054054054)  # dpn131\n",
    "# print(auc_score1 - 0.7110187110187111) # resnext101"
   ]
  },
  {
   "cell_type": "code",
   "execution_count": 202,
   "metadata": {},
   "outputs": [
    {
     "data": {
      "image/png": "[encoded data removed]",
      "text/plain": [
       "<Figure size 432x288 with 1 Axes>"
      ]
     },
     "metadata": {
      "needs_background": "light"
     },
     "output_type": "display_data"
    }
   ],
   "source": [
    "plt.plot(epochs,losses)\n",
    "plt.ylabel('Loss')\n",
    "plt.xlabel('Epoch')\n",
    "plt.grid(ls='--')  # 生成网格\n",
    "plt.show()"
   ]
  }
 ],
 "metadata": {
  "interpreter": {
   "hash": "aa88eb80fe6aea0a2f4aff8fa8849bac35c0cecd21d1c3c7c22b82a5cf54fb2a"
  },
  "kernelspec": {
   "display_name": "Python 3.7.10 64-bit ('tf2': conda)",
   "name": "python3"
  },
  "language_info": {
   "codemirror_mode": {
    "name": "ipython",
    "version": 3
   },
   "file_extension": ".py",
   "mimetype": "text/x-python",
   "name": "python",
   "nbconvert_exporter": "python",
   "pygments_lexer": "ipython3",
   "version": "3.7.10"
  },
  "orig_nbformat": 4
 },
 "nbformat": 4,
 "nbformat_minor": 2
}
